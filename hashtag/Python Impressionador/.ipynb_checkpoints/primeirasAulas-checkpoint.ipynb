{
 "cells": [
  {
   "cell_type": "code",
   "execution_count": 26,
   "id": "8fc7e8eb",
   "metadata": {},
   "outputs": [
    {
     "name": "stdout",
     "output_type": "stream",
     "text": [
      "Qual o seu primeiro nome?lucas\n",
      "Qual o seu sobrenome?araujo\n",
      "Olá! lucas araujo\n"
     ]
    }
   ],
   "source": [
    "ex01 = '''\n",
    "#print(5 + 9) # adição\n",
    "#print(5 - 1) # subtração\n",
    "#print(5 / 9) # divisão\n",
    "#print(5 * 9) # multiplicação\n",
    "#print(5 ** 9) # potência\n",
    "\n",
    "'''\n",
    "\n",
    "ex02 = '''\n",
    "print('Meu nome é ' + 'Lucas') # concatenação\n",
    "print('Meu nome é' in 'Lucas') # verifica se CONTÉM um texto dentro de um texto de referência\n",
    "\n",
    "print('L' in 'Lucas') # tem 'L' em 'Lucas'? Sim, contém 'L' em 'Lucas'\n",
    "print('l' in 'Lucas') # tem 'l' em 'Lucas'? Não, faz diferença ser maiúsculo ou maiúsculo\n",
    "\n",
    "print('Lira' in 'Lira é o meu professor')\n",
    "'''\n",
    "\n",
    "ex03 = '''\n",
    "qtd_vendas = 1326\n",
    "print(qtd_vendas)\n",
    "\n",
    "faturamento = 2500\n",
    "custo = 1200\n",
    "lucro = faturamento - custo\n",
    "print(lucro)\n",
    "'''\n",
    "\n",
    "ex04 = '''\n",
    "nome = input('Qual o seu primeiro nome?')\n",
    "sobrenome = input('Qual o seu sobrenome?')\n",
    "\n",
    "print('Olá! ' + nome + ' ' + sobrenome)\n",
    "\n",
    "'''"
   ]
  },
  {
   "cell_type": "code",
   "execution_count": null,
   "id": "cfa8e97a",
   "metadata": {},
   "outputs": [],
   "source": []
  }
 ],
 "metadata": {
  "kernelspec": {
   "display_name": "Python 3 (ipykernel)",
   "language": "python",
   "name": "python3"
  },
  "language_info": {
   "codemirror_mode": {
    "name": "ipython",
    "version": 3
   },
   "file_extension": ".py",
   "mimetype": "text/x-python",
   "name": "python",
   "nbconvert_exporter": "python",
   "pygments_lexer": "ipython3",
   "version": "3.9.13"
  }
 },
 "nbformat": 4,
 "nbformat_minor": 5
}
